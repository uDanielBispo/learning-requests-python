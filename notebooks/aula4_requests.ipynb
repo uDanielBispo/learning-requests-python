{
 "cells": [
  {
   "cell_type": "code",
   "execution_count": 13,
   "metadata": {},
   "outputs": [],
   "source": [
    "from env import access_token\n",
    "import requests"
   ]
  },
  {
   "cell_type": "code",
   "execution_count": 14,
   "metadata": {},
   "outputs": [
    {
     "data": {
      "text/plain": [
       "'https://api.github.com/user/repos'"
      ]
     },
     "execution_count": 14,
     "metadata": {},
     "output_type": "execute_result"
    }
   ],
   "source": [
    "api_base_url = 'https://api.github.com'\n",
    "url = f'{api_base_url}/user/repos'\n",
    "\n",
    "url"
   ]
  },
  {
   "cell_type": "code",
   "execution_count": 15,
   "metadata": {},
   "outputs": [],
   "source": [
    "headers = {'Authorization': 'Bearer ' + access_token, 'X-GitHub-Api-Version': '2022-11-28'}"
   ]
  },
  {
   "cell_type": "code",
   "execution_count": 16,
   "metadata": {},
   "outputs": [
    {
     "data": {
      "text/plain": [
       "422"
      ]
     },
     "execution_count": 16,
     "metadata": {},
     "output_type": "execute_result"
    }
   ],
   "source": [
    "data = {\n",
    "    'name': 'linguagens-utilizadas',\n",
    "    'description': 'Repositorio com as linguagens de prog da Amazon',\n",
    "    'private': False\n",
    "}\n",
    "\n",
    "response = requests.post(url, json=data, headers=headers)\n",
    "response.status_code"
   ]
  },
  {
   "cell_type": "markdown",
   "metadata": {},
   "source": [
    "## Formato do arquivo"
   ]
  },
  {
   "cell_type": "code",
   "execution_count": 17,
   "metadata": {},
   "outputs": [],
   "source": [
    "import base64"
   ]
  },
  {
   "cell_type": "code",
   "execution_count": 18,
   "metadata": {},
   "outputs": [],
   "source": [
    "with open('../processed_files/amazon.csv', 'rb') as file:\n",
    "    file_content = file.read()\n",
    "\n",
    "encoded_content = base64.b64encode(file_content)"
   ]
  },
  {
   "cell_type": "code",
   "execution_count": 19,
   "metadata": {},
   "outputs": [
    {
     "data": {
      "text/plain": [
       "'https://api.github.com/repos/uDanielBispo/linguagens-utilizadas/contents/amazon.csv'"
      ]
     },
     "execution_count": 19,
     "metadata": {},
     "output_type": "execute_result"
    }
   ],
   "source": [
    "api_base_url = 'https://api.github.com'\n",
    "username = 'uDanielBispo'\n",
    "repo = 'linguagens-utilizadas'\n",
    "path = 'amazon.csv'\n",
    "\n",
    "url = f'{api_base_url}/repos/{username}/{repo}/contents/{path}'\n",
    "url"
   ]
  },
  {
   "cell_type": "code",
   "execution_count": 20,
   "metadata": {},
   "outputs": [
    {
     "data": {
      "text/plain": [
       "201"
      ]
     },
     "execution_count": 20,
     "metadata": {},
     "output_type": "execute_result"
    }
   ],
   "source": [
    "data = {\n",
    "    'message': 'Adicionando um novo arquivo',\n",
    "    'content': encoded_content.decode('utf-8')\n",
    "}\n",
    "\n",
    "response = requests.put(url, json=data, headers=headers)\n",
    "response.status_code"
   ]
  }
 ],
 "metadata": {
  "kernelspec": {
   "display_name": "Python 3",
   "language": "python",
   "name": "python3"
  },
  "language_info": {
   "codemirror_mode": {
    "name": "ipython",
    "version": 3
   },
   "file_extension": ".py",
   "mimetype": "text/x-python",
   "name": "python",
   "nbconvert_exporter": "python",
   "pygments_lexer": "ipython3",
   "version": "3.10.12"
  }
 },
 "nbformat": 4,
 "nbformat_minor": 2
}
