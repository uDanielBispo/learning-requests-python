{
 "cells": [
  {
   "cell_type": "markdown",
   "metadata": {},
   "source": [
    "# Jeito que foi abordado nas aulas"
   ]
  },
  {
   "cell_type": "code",
   "execution_count": 51,
   "metadata": {},
   "outputs": [
    {
     "data": {
      "text/plain": [
       "162"
      ]
     },
     "execution_count": 51,
     "metadata": {},
     "output_type": "execute_result"
    }
   ],
   "source": [
    "#tempo médio 7 a 8 seg\n",
    "\n",
    "from env import access_token\n",
    "import requests\n",
    "\n",
    "base_url = 'https://api.github.com'\n",
    "owner = 'amzn'\n",
    "page_num = 1\n",
    "headers = {'Authorization': 'Bearer ' + access_token,\n",
    "                    'X-GitHub-Api-Version': '2022-11-28'}\n",
    "repos_list = []\n",
    "\n",
    "for page_num in range(1, 20):\n",
    "    try:\n",
    "        url = f'{base_url}/users/{owner}/repos?page={page_num}'\n",
    "        response = requests.get(url, headers=headers)\n",
    "        repos_list.append(response.json())\n",
    "    except:\n",
    "        repos_list.append(None)\n",
    "        break\n",
    "\n",
    "sum_repos = 0\n",
    "for item in repos_list:\n",
    "    sum_repos += len(item)\n",
    "\n",
    "sum_repos"
   ]
  },
  {
   "cell_type": "markdown",
   "metadata": {},
   "source": [
    "# Meu jeito"
   ]
  },
  {
   "cell_type": "code",
   "execution_count": 50,
   "metadata": {},
   "outputs": [
    {
     "data": {
      "text/plain": [
       "162"
      ]
     },
     "execution_count": 50,
     "metadata": {},
     "output_type": "execute_result"
    }
   ],
   "source": [
    "#tempo médio 3.5 a 5 seg\n",
    "\n",
    "from env import access_token\n",
    "\n",
    "base_url = 'https://api.github.com'\n",
    "owner = 'amzn'\n",
    "page_num = 1\n",
    "headers = {'Authorization': 'Bearer ' + access_token,\n",
    "                    'X-GitHub-Api-Version': '2022-11-28'}\n",
    "repos_list = []\n",
    "\n",
    "while True:     \n",
    "    url = f'{base_url}/users/{owner}/repos?page={page_num}'\n",
    "    response = requests.get(url, headers=headers)\n",
    "    repos_list.append(response.json())\n",
    "    page_num += 1\n",
    "\n",
    "    if(len(response.json()) == 0): break\n",
    "    \n",
    "sum_repos = 0\n",
    "for item in repos_list:\n",
    "    sum_repos += len(item)\n",
    "\n",
    "sum_repos"
   ]
  },
  {
   "cell_type": "markdown",
   "metadata": {},
   "source": [
    "# Desafio proposto"
   ]
  },
  {
   "cell_type": "code",
   "execution_count": 52,
   "metadata": {},
   "outputs": [
    {
     "data": {
      "text/plain": [
       "162"
      ]
     },
     "execution_count": 52,
     "metadata": {},
     "output_type": "execute_result"
    }
   ],
   "source": [
    "# de 2.2 a 4 seg\n",
    "\n",
    "base_url = 'https://api.github.com'\n",
    "owner = 'amzn'\n",
    "page_num = 1\n",
    "headers = {'Authorization': 'Bearer ' + access_token,\n",
    "                    'X-GitHub-Api-Version': '2022-11-28'}\n",
    "repos_list = []\n",
    "\n",
    "# calculando a quantidade de paginas\n",
    "response = requests.get(f'https://api.github.com/users/{owner}')\n",
    "num_pages = ceil(response.json()['public_repos']/30)\n",
    "\n",
    "for page_num in range(1, num_pages + 1):\n",
    "    try:\n",
    "        url = f'{base_url}/users/{owner}/repos?page={page_num}'\n",
    "        response = requests.get(url, headers=headers)\n",
    "        repos_list.append(response.json())\n",
    "    except:\n",
    "        repos_list.append(None)\n",
    "\n",
    "sum_repos = 0\n",
    "for item in repos_list:\n",
    "    sum_repos += len(item)\n",
    "\n",
    "sum_repos"
   ]
  }
 ],
 "metadata": {
  "kernelspec": {
   "display_name": "Python 3",
   "language": "python",
   "name": "python3"
  },
  "language_info": {
   "codemirror_mode": {
    "name": "ipython",
    "version": 3
   },
   "file_extension": ".py",
   "mimetype": "text/x-python",
   "name": "python",
   "nbconvert_exporter": "python",
   "pygments_lexer": "ipython3",
   "version": "3.10.12"
  }
 },
 "nbformat": 4,
 "nbformat_minor": 2
}
