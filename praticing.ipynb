{
 "cells": [
  {
   "cell_type": "markdown",
   "metadata": {},
   "source": [
    "## Dados sobre os seguidores da Amazon no Git"
   ]
  },
  {
   "cell_type": "code",
   "execution_count": 1,
   "metadata": {},
   "outputs": [],
   "source": [
    "import requests\n",
    "from env import access_token"
   ]
  },
  {
   "cell_type": "code",
   "execution_count": 2,
   "metadata": {},
   "outputs": [],
   "source": [
    "headers = {'Authorization': 'Bearer ' + access_token, 'X-GitHub-Api-Version': '2022-11-28'}"
   ]
  },
  {
   "cell_type": "code",
   "execution_count": 3,
   "metadata": {},
   "outputs": [
    {
     "data": {
      "text/plain": [
       "30"
      ]
     },
     "execution_count": 3,
     "metadata": {},
     "output_type": "execute_result"
    }
   ],
   "source": [
    "username = 'amzn'\n",
    "url = f'https://api.github.com/users/{username}/followers'\n",
    "\n",
    "response = requests.get(url, headers=headers)\n",
    "followers = response.json()\n",
    "\n",
    "len(followers)"
   ]
  },
  {
   "cell_type": "code",
   "execution_count": 4,
   "metadata": {},
   "outputs": [
    {
     "data": {
      "text/plain": [
       "1788"
      ]
     },
     "execution_count": 4,
     "metadata": {},
     "output_type": "execute_result"
    }
   ],
   "source": [
    "followers_list = []\n",
    "page = 1\n",
    "\n",
    "while True:\n",
    "    url_page = f'{url}?page={page}'\n",
    "    response = requests.get(url_page, headers=headers)\n",
    "    \n",
    "    followers = response.json()\n",
    "    \n",
    "    if(len(followers) == 0): \n",
    "        break\n",
    "\n",
    "    followers_list.append(followers)\n",
    "    \n",
    "    page+=1\n",
    "\n",
    "followers_list\n",
    "\n",
    "sum_followers = 0\n",
    "for item in followers_list:\n",
    "    sum_followers += len(item)\n",
    "\n",
    "sum_followers"
   ]
  },
  {
   "cell_type": "code",
   "execution_count": 5,
   "metadata": {},
   "outputs": [],
   "source": [
    "follower_name = []\n",
    "for page in followers_list:\n",
    "    for follower in page:\n",
    "        follower_name.append(follower['login'])"
   ]
  },
  {
   "cell_type": "code",
   "execution_count": 9,
   "metadata": {},
   "outputs": [],
   "source": [
    "import pandas as pd\n",
    "\n",
    "followers_data = pd.DataFrame()\n",
    "followers_data['name'] = follower_name\n",
    "\n",
    "followers_data.to_csv('amazon_followers.csv')"
   ]
  }
 ],
 "metadata": {
  "kernelspec": {
   "display_name": "Python 3",
   "language": "python",
   "name": "python3"
  },
  "language_info": {
   "codemirror_mode": {
    "name": "ipython",
    "version": 3
   },
   "file_extension": ".py",
   "mimetype": "text/x-python",
   "name": "python",
   "nbconvert_exporter": "python",
   "pygments_lexer": "ipython3",
   "version": "3.10.12"
  }
 },
 "nbformat": 4,
 "nbformat_minor": 2
}
